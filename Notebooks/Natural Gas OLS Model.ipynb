{
 "cells": [
  {
   "cell_type": "markdown",
   "metadata": {},
   "source": [
    "## Import Libraries "
   ]
  },
  {
   "cell_type": "code",
   "execution_count": 1,
   "metadata": {
    "ExecuteTime": {
     "end_time": "2021-01-27T20:54:26.091959Z",
     "start_time": "2021-01-27T20:54:22.310960Z"
    },
    "scrolled": true
   },
   "outputs": [],
   "source": [
    "import pandas as pd\n",
    "import numpy as np\n",
    "import statsmodels.api as sm\n",
    "import matplotlib.pyplot as plt\n",
    "%matplotlib qt\n",
    "from sklearn import linear_model"
   ]
  },
  {
   "cell_type": "markdown",
   "metadata": {},
   "source": [
    "## Load & Clean Data "
   ]
  },
  {
   "cell_type": "code",
   "execution_count": 5,
   "metadata": {
    "ExecuteTime": {
     "end_time": "2021-01-27T20:54:40.145961Z",
     "start_time": "2021-01-27T20:54:40.130961Z"
    }
   },
   "outputs": [
    {
     "data": {
      "text/plain": [
       "Date       0\n",
       "Spot       0\n",
       "Storage    0\n",
       "HDD        0\n",
       "CDD        0\n",
       "dtype: int64"
      ]
     },
     "execution_count": 5,
     "metadata": {},
     "output_type": "execute_result"
    }
   ],
   "source": [
    "Data = pd.read_csv(r'NG_cleaned.csv')\n",
    "current_weather = pd.read_csv(r'current_weather.csv', index_col=0, parse_dates=True)\n",
    "\n",
    "Data.head()\n",
    "Data = Data.dropna()\n",
    "Data.isna().sum()"
   ]
  },
  {
   "cell_type": "code",
   "execution_count": 6,
   "metadata": {
    "ExecuteTime": {
     "end_time": "2021-01-27T20:54:40.820961Z",
     "start_time": "2021-01-27T20:54:40.817960Z"
    }
   },
   "outputs": [],
   "source": [
    "Data['TDDs'] = Data['HDD'] + Data['CDD']"
   ]
  },
  {
   "cell_type": "code",
   "execution_count": 7,
   "metadata": {
    "ExecuteTime": {
     "end_time": "2021-01-27T20:54:41.077962Z",
     "start_time": "2021-01-27T20:54:41.071962Z"
    }
   },
   "outputs": [
    {
     "data": {
      "text/html": [
       "<div>\n",
       "<style scoped>\n",
       "    .dataframe tbody tr th:only-of-type {\n",
       "        vertical-align: middle;\n",
       "    }\n",
       "\n",
       "    .dataframe tbody tr th {\n",
       "        vertical-align: top;\n",
       "    }\n",
       "\n",
       "    .dataframe thead th {\n",
       "        text-align: right;\n",
       "    }\n",
       "</style>\n",
       "<table border=\"1\" class=\"dataframe\">\n",
       "  <thead>\n",
       "    <tr style=\"text-align: right;\">\n",
       "      <th></th>\n",
       "      <th>HDD</th>\n",
       "      <th>CDD</th>\n",
       "    </tr>\n",
       "  </thead>\n",
       "  <tbody>\n",
       "    <tr>\n",
       "      <th>2021-01-04</th>\n",
       "      <td>22.72</td>\n",
       "      <td>0.32</td>\n",
       "    </tr>\n",
       "    <tr>\n",
       "      <th>2021-01-05</th>\n",
       "      <td>28.07</td>\n",
       "      <td>0.49</td>\n",
       "    </tr>\n",
       "    <tr>\n",
       "      <th>2021-01-06</th>\n",
       "      <td>28.11</td>\n",
       "      <td>0.43</td>\n",
       "    </tr>\n",
       "    <tr>\n",
       "      <th>2021-01-07</th>\n",
       "      <td>24.36</td>\n",
       "      <td>0.42</td>\n",
       "    </tr>\n",
       "    <tr>\n",
       "      <th>2021-01-08</th>\n",
       "      <td>24.42</td>\n",
       "      <td>0.51</td>\n",
       "    </tr>\n",
       "  </tbody>\n",
       "</table>\n",
       "</div>"
      ],
      "text/plain": [
       "              HDD   CDD\n",
       "2021-01-04  22.72  0.32\n",
       "2021-01-05  28.07  0.49\n",
       "2021-01-06  28.11  0.43\n",
       "2021-01-07  24.36  0.42\n",
       "2021-01-08  24.42  0.51"
      ]
     },
     "execution_count": 7,
     "metadata": {},
     "output_type": "execute_result"
    }
   ],
   "source": [
    "current_weather.tail()"
   ]
  },
  {
   "cell_type": "code",
   "execution_count": 8,
   "metadata": {
    "ExecuteTime": {
     "end_time": "2021-01-27T20:54:41.653984Z",
     "start_time": "2021-01-27T20:54:41.649960Z"
    }
   },
   "outputs": [
    {
     "data": {
      "text/plain": [
       "24.930000000000003"
      ]
     },
     "execution_count": 8,
     "metadata": {},
     "output_type": "execute_result"
    }
   ],
   "source": [
    "two_week_forecasted_weather = current_weather['HDD'][-1] + current_weather['CDD'][-1] \n",
    "two_week_forecasted_weather"
   ]
  },
  {
   "cell_type": "code",
   "execution_count": 9,
   "metadata": {
    "ExecuteTime": {
     "end_time": "2021-01-27T20:54:57.987961Z",
     "start_time": "2021-01-27T20:54:57.972962Z"
    }
   },
   "outputs": [
    {
     "data": {
      "text/html": [
       "<div>\n",
       "<style scoped>\n",
       "    .dataframe tbody tr th:only-of-type {\n",
       "        vertical-align: middle;\n",
       "    }\n",
       "\n",
       "    .dataframe tbody tr th {\n",
       "        vertical-align: top;\n",
       "    }\n",
       "\n",
       "    .dataframe thead th {\n",
       "        text-align: right;\n",
       "    }\n",
       "</style>\n",
       "<table border=\"1\" class=\"dataframe\">\n",
       "  <thead>\n",
       "    <tr style=\"text-align: right;\">\n",
       "      <th></th>\n",
       "      <th>Date</th>\n",
       "      <th>Spot</th>\n",
       "      <th>Storage</th>\n",
       "      <th>HDD</th>\n",
       "      <th>CDD</th>\n",
       "      <th>TDDs</th>\n",
       "    </tr>\n",
       "  </thead>\n",
       "  <tbody>\n",
       "    <tr>\n",
       "      <th>3637</th>\n",
       "      <td>2020-12-22</td>\n",
       "      <td>2.76</td>\n",
       "      <td>3508.857143</td>\n",
       "      <td>21.0</td>\n",
       "      <td>0.0</td>\n",
       "      <td>21.00</td>\n",
       "    </tr>\n",
       "    <tr>\n",
       "      <th>3638</th>\n",
       "      <td>2020-12-23</td>\n",
       "      <td>2.76</td>\n",
       "      <td>3492.571429</td>\n",
       "      <td>21.0</td>\n",
       "      <td>0.0</td>\n",
       "      <td>21.00</td>\n",
       "    </tr>\n",
       "    <tr>\n",
       "      <th>3639</th>\n",
       "      <td>2020-12-24</td>\n",
       "      <td>2.68</td>\n",
       "      <td>3476.285714</td>\n",
       "      <td>25.0</td>\n",
       "      <td>0.0</td>\n",
       "      <td>25.00</td>\n",
       "    </tr>\n",
       "    <tr>\n",
       "      <th>3640</th>\n",
       "      <td>2020-12-25</td>\n",
       "      <td>2.62</td>\n",
       "      <td>3460.000000</td>\n",
       "      <td>28.0</td>\n",
       "      <td>0.0</td>\n",
       "      <td>28.00</td>\n",
       "    </tr>\n",
       "    <tr>\n",
       "      <th>3641</th>\n",
       "      <td>NaN</td>\n",
       "      <td>NaN</td>\n",
       "      <td>2978.000000</td>\n",
       "      <td>NaN</td>\n",
       "      <td>NaN</td>\n",
       "      <td>24.93</td>\n",
       "    </tr>\n",
       "  </tbody>\n",
       "</table>\n",
       "</div>"
      ],
      "text/plain": [
       "            Date  Spot      Storage   HDD  CDD   TDDs\n",
       "3637  2020-12-22  2.76  3508.857143  21.0  0.0  21.00\n",
       "3638  2020-12-23  2.76  3492.571429  21.0  0.0  21.00\n",
       "3639  2020-12-24  2.68  3476.285714  25.0  0.0  25.00\n",
       "3640  2020-12-25  2.62  3460.000000  28.0  0.0  28.00\n",
       "3641         NaN   NaN  2978.000000   NaN  NaN  24.93"
      ]
     },
     "execution_count": 9,
     "metadata": {},
     "output_type": "execute_result"
    }
   ],
   "source": [
    "newData = Data.append({'TDDs': two_week_forecasted_weather,\n",
    "                       'Storage': 2978}, ignore_index=True)\n",
    "\n",
    "newData.fillna(0)\n",
    "\n",
    "newData.tail()"
   ]
  },
  {
   "cell_type": "markdown",
   "metadata": {},
   "source": [
    "## Examining the Data "
   ]
  },
  {
   "cell_type": "code",
   "execution_count": 23,
   "metadata": {
    "ExecuteTime": {
     "end_time": "2021-01-28T06:40:11.146681Z",
     "start_time": "2021-01-28T06:40:11.069901Z"
    }
   },
   "outputs": [],
   "source": [
    "fig, ax = plt.subplots()\n",
    "ax = fig.add_subplot(111, projection='3d')\n",
    "fig.set_size_inches(13,13)\n",
    "\n",
    "x=Data['Storage']\n",
    "y=Data['TDDs']\n",
    "z=Data['Spot']\n",
    "\n",
    "x = np.array(x)\n",
    "y = np.array(y)\n",
    "z = np.array(z)\n",
    "\n",
    "ax.scatter(x, y, z, c=Data.index, marker='o', linewidths=0.5, edgecolors='blue')\n",
    "\n",
    "plt.title('Price/TDDs/Storage')\n",
    "\n",
    "ax.set_xlabel('Total Underground Storage')\n",
    "ax.set_ylabel('TDDs per day')\n",
    "ax.set_zlabel('Price')\n",
    "ax.set_zlim(1,8)\n",
    "\n",
    "plt.show()"
   ]
  },
  {
   "cell_type": "markdown",
   "metadata": {},
   "source": [
    "## Fitting an OLS model "
   ]
  },
  {
   "cell_type": "code",
   "execution_count": 12,
   "metadata": {
    "ExecuteTime": {
     "end_time": "2021-01-27T20:55:42.275960Z",
     "start_time": "2021-01-27T20:55:42.263962Z"
    }
   },
   "outputs": [
    {
     "name": "stdout",
     "output_type": "stream",
     "text": [
      "Intercept: \n",
      " 3.5058125288737623\n",
      "Coefficients: \n",
      " [ 0.01819347 -0.00025702]\n",
      "Predicted Price of Natural Gas: \n",
      " [3.19398062]\n"
     ]
    }
   ],
   "source": [
    "Q = newData[['TDDs','Storage']][:-1]\n",
    "R = newData['Spot'][:-1]\n",
    "\n",
    "regr_model = linear_model.LinearRegression()\n",
    "regr_model.fit(Q, R)\n",
    "\n",
    "print('Intercept: \\n', regr_model.intercept_)\n",
    "print('Coefficients: \\n', regr_model.coef_)\n",
    "\n",
    "# prediction\n",
    "New_TDDs = newData['TDDs'].iloc[-1]\n",
    "New_Storage = newData['Storage'].iloc[-1]\n",
    "\n",
    "print ('Predicted Price of Natural Gas: \\n', regr_model.predict([[New_TDDs ,New_Storage]]))"
   ]
  },
  {
   "cell_type": "markdown",
   "metadata": {},
   "source": [
    "## Adding a Regression Plane "
   ]
  },
  {
   "cell_type": "code",
   "execution_count": 26,
   "metadata": {
    "ExecuteTime": {
     "end_time": "2021-01-28T06:44:41.878190Z",
     "start_time": "2021-01-28T06:44:41.573768Z"
    }
   },
   "outputs": [],
   "source": [
    "import pandas as pd\n",
    "import numpy as np\n",
    "import matplotlib.pyplot as plt\n",
    "from sklearn import linear_model\n",
    "from mpl_toolkits.mplot3d import Axes3D\n",
    "\n",
    "# Data reshaping\n",
    "\n",
    "X = Data[['TDDs', 'Storage']].values.reshape(-1,2)\n",
    "Y = Data['Spot']\n",
    "\n",
    "# Prepare model data point for visualization\n",
    "\n",
    "x = X[:, 0]\n",
    "y = X[:, 1]\n",
    "z = Y\n",
    "\n",
    "New_TDDs = newData['TDDs'].iloc[-1]\n",
    "New_Storage = newData['Storage'].iloc[-1]\n",
    "\n",
    "x_pred = np.linspace(0, 45, 120)   # range of porosity values\n",
    "y_pred = np.linspace(800, 4050, 120)  # range of brittleness values\n",
    "xx_pred, yy_pred = np.meshgrid(x_pred, y_pred)\n",
    "model_viz = np.array([xx_pred.flatten(), yy_pred.flatten()]).T\n",
    "\n",
    "# Train model\n",
    "\n",
    "ols = linear_model.LinearRegression()\n",
    "model = ols.fit(X, Y)\n",
    "predicted = model.predict(model_viz)\n",
    "\n",
    "# Evaluate model\n",
    "\n",
    "r2 = model.score(X, Y)\n",
    "\n",
    "# Plot \n",
    "\n",
    "plt.style.use('default')\n",
    "\n",
    "fig, ax = plt.subplots()\n",
    "ax = fig.add_subplot(111, projection='3d')\n",
    "fig.set_size_inches(13,13)\n",
    "\n",
    "ax.scatter(New_TDDs, New_Storage, 2.603, c='red', marker='o', linewidths=1, edgecolors='black', s=50)\n",
    "ax.scatter(x, y, z, c='springgreen', marker='o', linewidths=0.5, edgecolors='blue', s=5)\n",
    "ax.scatter(xx_pred.flatten(), yy_pred.flatten(), predicted, facecolor=(0,0,0,0), s=0.45, c='red', linewidths=0.08, edgecolor='red')\n",
    "ax.set_xlabel('TDDs', fontsize=12)\n",
    "ax.set_ylabel('Storage', fontsize=12)\n",
    "ax.set_zlabel('Price', fontsize=12)\n",
    "ax.set_xlim(0,50)\n",
    "\n",
    "fig.suptitle('Price/TDDs/Storage with Regression Plane', fontsize=20)\n",
    "#fig.suptitle('$R^2 = %.2f$' % r2, fontsize=20)\n",
    "\n",
    "fig.tight_layout()"
   ]
  }
 ],
 "metadata": {
  "kernelspec": {
   "display_name": "Python 3",
   "language": "python",
   "name": "python3"
  },
  "language_info": {
   "codemirror_mode": {
    "name": "ipython",
    "version": 3
   },
   "file_extension": ".py",
   "mimetype": "text/x-python",
   "name": "python",
   "nbconvert_exporter": "python",
   "pygments_lexer": "ipython3",
   "version": "3.8.5"
  },
  "toc": {
   "base_numbering": 1,
   "nav_menu": {},
   "number_sections": false,
   "sideBar": true,
   "skip_h1_title": false,
   "title_cell": "Table of Contents",
   "title_sidebar": "Contents",
   "toc_cell": false,
   "toc_position": {
    "height": "calc(100% - 180px)",
    "left": "10px",
    "top": "150px",
    "width": "204px"
   },
   "toc_section_display": true,
   "toc_window_display": true
  },
  "varInspector": {
   "cols": {
    "lenName": 16,
    "lenType": 16,
    "lenVar": 40
   },
   "kernels_config": {
    "python": {
     "delete_cmd_postfix": "",
     "delete_cmd_prefix": "del ",
     "library": "var_list.py",
     "varRefreshCmd": "print(var_dic_list())"
    },
    "r": {
     "delete_cmd_postfix": ") ",
     "delete_cmd_prefix": "rm(",
     "library": "var_list.r",
     "varRefreshCmd": "cat(var_dic_list()) "
    }
   },
   "types_to_exclude": [
    "module",
    "function",
    "builtin_function_or_method",
    "instance",
    "_Feature"
   ],
   "window_display": false
  }
 },
 "nbformat": 4,
 "nbformat_minor": 4
}

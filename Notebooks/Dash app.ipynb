{
 "cells": [
  {
   "cell_type": "code",
   "execution_count": null,
   "metadata": {
    "ExecuteTime": {
     "start_time": "2021-01-25T05:45:27.255Z"
    }
   },
   "outputs": [
    {
     "name": "stdout",
     "output_type": "stream",
     "text": [
      "Dash is running on http://127.0.0.1:8050/\n",
      "\n",
      "Dash is running on http://127.0.0.1:8050/\n",
      "\n",
      "Dash is running on http://127.0.0.1:8050/\n",
      "\n",
      "Dash is running on http://127.0.0.1:8050/\n",
      "\n",
      "Dash is running on http://127.0.0.1:8050/\n",
      "\n",
      "Dash is running on http://127.0.0.1:8050/\n",
      "\n",
      "Dash is running on http://127.0.0.1:8050/\n",
      "\n",
      " * Serving Flask app \"__main__\" (lazy loading)\n",
      " * Environment: production\n",
      "   WARNING: This is a development server. Do not use it in a production deployment.\n",
      "   Use a production WSGI server instead.\n",
      " * Debug mode: off\n"
     ]
    },
    {
     "name": "stderr",
     "output_type": "stream",
     "text": [
      " * Running on http://127.0.0.1:8050/ (Press CTRL+C to quit)\n",
      "127.0.0.1 - - [25/Jan/2021 00:45:34] \"\u001b[37mGET / HTTP/1.1\u001b[0m\" 200 -\n",
      "127.0.0.1 - - [25/Jan/2021 00:45:34] \"\u001b[37mGET /_dash-layout HTTP/1.1\u001b[0m\" 200 -\n",
      "127.0.0.1 - - [25/Jan/2021 00:45:34] \"\u001b[37mGET /_dash-dependencies HTTP/1.1\u001b[0m\" 200 -\n",
      "127.0.0.1 - - [25/Jan/2021 00:45:34] \"\u001b[37mPOST /_dash-update-component HTTP/1.1\u001b[0m\" 200 -\n",
      "127.0.0.1 - - [25/Jan/2021 00:45:38] \"\u001b[37mPOST /_dash-update-component HTTP/1.1\u001b[0m\" 200 -\n",
      "127.0.0.1 - - [25/Jan/2021 22:36:14] \"\u001b[37mPOST /_dash-update-component HTTP/1.1\u001b[0m\" 200 -\n",
      "127.0.0.1 - - [25/Jan/2021 22:36:15] \"\u001b[37mPOST /_dash-update-component HTTP/1.1\u001b[0m\" 200 -\n",
      "127.0.0.1 - - [25/Jan/2021 22:36:18] \"\u001b[37mPOST /_dash-update-component HTTP/1.1\u001b[0m\" 200 -\n",
      "127.0.0.1 - - [26/Jan/2021 14:20:56] \"\u001b[37mPOST /_dash-update-component HTTP/1.1\u001b[0m\" 200 -\n",
      "127.0.0.1 - - [26/Jan/2021 14:20:59] \"\u001b[37mPOST /_dash-update-component HTTP/1.1\u001b[0m\" 200 -\n",
      "127.0.0.1 - - [26/Jan/2021 14:21:01] \"\u001b[37mPOST /_dash-update-component HTTP/1.1\u001b[0m\" 200 -\n",
      "127.0.0.1 - - [26/Jan/2021 14:21:02] \"\u001b[37mPOST /_dash-update-component HTTP/1.1\u001b[0m\" 200 -\n",
      "127.0.0.1 - - [26/Jan/2021 14:21:03] \"\u001b[37mPOST /_dash-update-component HTTP/1.1\u001b[0m\" 200 -\n",
      "127.0.0.1 - - [27/Jan/2021 01:45:09] \"\u001b[37mPOST /_dash-update-component HTTP/1.1\u001b[0m\" 200 -\n"
     ]
    }
   ],
   "source": [
    "import pandas as pd\n",
    "import dash\n",
    "import dash_core_components as dcc\n",
    "import dash_html_components as html\n",
    "import dash_bootstrap_components as dbc\n",
    "from dash.dependencies import Input, Output\n",
    "import plotly.express as px\n",
    "import plotly.graph_objects as go\n",
    "\n",
    "df = pd.read_csv('generation_by_source.csv', index_col=0)\n",
    "\n",
    "app = dash.Dash(__name__, external_stylesheets=[dbc.themes.LUMEN])\n",
    "\n",
    "# defines layout of the app using Dash div elements\n",
    "app.layout = html.Div([\n",
    "    \n",
    "    html.H1('Natural Gas Dashboard', style={\"textAlign\": \"center\"}),\n",
    "        \n",
    "    html.Div([\n",
    "        html.Label(['Energy Generation by Source']),\n",
    "        \n",
    "        # creates an interactable drop-down box for the user to select data by year\n",
    "        dcc.Dropdown(\n",
    "            id='dropdown',\n",
    "            options=[\n",
    "                     {'label': '2011', 'value': '2011'},\n",
    "                     {'label': '2012', 'value': '2012'},\n",
    "                     {'label': '2013', 'value': '2013'},\n",
    "                     {'label': '2014', 'value': '2014'},\n",
    "                     {'label': '2015', 'value': '2015'},\n",
    "                     {'label': '2016', 'value': '2016'},\n",
    "                     {'label': '2017', 'value': '2017'},\n",
    "                     {'label': '2018', 'value': '2018'},\n",
    "                     {'label': '2019', 'value': '2019'},\n",
    "                     {'label': '2020', 'value': '2020'},\n",
    "            ],\n",
    "            value='2011',\n",
    "            multi=False,\n",
    "            clearable=False,\n",
    "            style={\"width\": \"35%\"}\n",
    "        ),\n",
    "    ]),\n",
    "    \n",
    "    # creates the graph object\n",
    "    html.Div([\n",
    "        dcc.Graph(id='pie')\n",
    "    ]),\n",
    "\n",
    "],\n",
    "    \n",
    "className=\"six columns\")  \n",
    "\n",
    "# creates the callback function to update graph based on user selection\n",
    "@app.callback(\n",
    "    Output(component_id='pie', component_property='figure'),\n",
    "    [Input(component_id='dropdown', component_property='value')]\n",
    ")\n",
    "\n",
    "def update_graph(dropdown):\n",
    "    df_ = df\n",
    "\n",
    "    piechart=px.pie(\n",
    "            data_frame=df_,\n",
    "            names=df_.index,\n",
    "            values=df_[dropdown],\n",
    "            color=df_.index,\n",
    "            color_discrete_sequence=px.colors.qualitative.G10,\n",
    "            hole=.3,\n",
    "            )\n",
    "\n",
    "    return (piechart)\n",
    "\n",
    "\n",
    "if __name__ == '__main__':\n",
    "    app.run_server(debug=False)"
   ]
  },
  {
   "cell_type": "code",
   "execution_count": null,
   "metadata": {},
   "outputs": [],
   "source": []
  }
 ],
 "metadata": {
  "kernelspec": {
   "display_name": "Python 3",
   "language": "python",
   "name": "python3"
  },
  "language_info": {
   "codemirror_mode": {
    "name": "ipython",
    "version": 3
   },
   "file_extension": ".py",
   "mimetype": "text/x-python",
   "name": "python",
   "nbconvert_exporter": "python",
   "pygments_lexer": "ipython3",
   "version": "3.8.5"
  },
  "toc": {
   "base_numbering": 1,
   "nav_menu": {},
   "number_sections": true,
   "sideBar": true,
   "skip_h1_title": false,
   "title_cell": "Table of Contents",
   "title_sidebar": "Contents",
   "toc_cell": false,
   "toc_position": {},
   "toc_section_display": true,
   "toc_window_display": false
  },
  "varInspector": {
   "cols": {
    "lenName": 16,
    "lenType": 16,
    "lenVar": 40
   },
   "kernels_config": {
    "python": {
     "delete_cmd_postfix": "",
     "delete_cmd_prefix": "del ",
     "library": "var_list.py",
     "varRefreshCmd": "print(var_dic_list())"
    },
    "r": {
     "delete_cmd_postfix": ") ",
     "delete_cmd_prefix": "rm(",
     "library": "var_list.r",
     "varRefreshCmd": "cat(var_dic_list()) "
    }
   },
   "types_to_exclude": [
    "module",
    "function",
    "builtin_function_or_method",
    "instance",
    "_Feature"
   ],
   "window_display": false
  }
 },
 "nbformat": 4,
 "nbformat_minor": 4
}

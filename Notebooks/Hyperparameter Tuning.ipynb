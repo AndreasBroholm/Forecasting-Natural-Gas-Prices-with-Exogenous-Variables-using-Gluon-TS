{
 "cells": [
  {
   "cell_type": "markdown",
   "metadata": {},
   "source": [
    "# Forecasting Natural Gas Prices with Exogenous Variables"
   ]
  },
  {
   "cell_type": "markdown",
   "metadata": {},
   "source": [
    "## Import Libraries"
   ]
  },
  {
   "cell_type": "code",
   "execution_count": 2,
   "metadata": {},
   "outputs": [
    {
     "name": "stdout",
     "output_type": "stream",
     "text": [
      "Collecting gluonts\n",
      "  Downloading gluonts-0.6.4-py3-none-any.whl (569 kB)\n",
      "\u001b[K     |████████████████████████████████| 569 kB 6.0 MB/s eta 0:00:01\n",
      "\u001b[?25hRequirement already satisfied: toolz~=0.10 in /home/ec2-user/anaconda3/envs/amazonei_mxnet_p36/lib/python3.6/site-packages (from gluonts) (0.10.0)\n",
      "Requirement already satisfied: pandas>=1.0 in /home/ec2-user/anaconda3/envs/amazonei_mxnet_p36/lib/python3.6/site-packages (from gluonts) (1.0.1)\n",
      "Requirement already satisfied: ujson~=1.35 in /home/ec2-user/anaconda3/envs/amazonei_mxnet_p36/lib/python3.6/site-packages (from gluonts) (1.35)\n",
      "Requirement already satisfied: numpy~=1.16 in /home/ec2-user/anaconda3/envs/amazonei_mxnet_p36/lib/python3.6/site-packages (from gluonts) (1.19.4)\n",
      "Requirement already satisfied: tqdm~=4.23 in /home/ec2-user/anaconda3/envs/amazonei_mxnet_p36/lib/python3.6/site-packages (from gluonts) (4.42.1)\n",
      "Requirement already satisfied: matplotlib~=3.0 in /home/ec2-user/anaconda3/envs/amazonei_mxnet_p36/lib/python3.6/site-packages (from gluonts) (3.1.3)\n",
      "Collecting holidays>=0.9\n",
      "  Downloading holidays-0.10.4.tar.gz (120 kB)\n",
      "\u001b[K     |████████████████████████████████| 120 kB 18.2 MB/s eta 0:00:01\n",
      "\u001b[?25hRequirement already satisfied: python-dateutil in /home/ec2-user/anaconda3/envs/amazonei_mxnet_p36/lib/python3.6/site-packages (from holidays>=0.9->gluonts) (2.8.1)\n",
      "Requirement already satisfied: six in /home/ec2-user/anaconda3/envs/amazonei_mxnet_p36/lib/python3.6/site-packages (from holidays>=0.9->gluonts) (1.15.0)\n",
      "Collecting convertdate<=2.2.0\n",
      "  Downloading convertdate-2.2.0-py3-none-any.whl (37 kB)\n",
      "Requirement already satisfied: pytz<2020,>=2014.10 in /home/ec2-user/anaconda3/envs/amazonei_mxnet_p36/lib/python3.6/site-packages (from convertdate<=2.2.0->holidays>=0.9->gluonts) (2019.3)\n",
      "Collecting korean_lunar_calendar\n",
      "  Downloading korean_lunar_calendar-0.2.1-py3-none-any.whl (8.0 kB)\n",
      "Requirement already satisfied: numpy~=1.16 in /home/ec2-user/anaconda3/envs/amazonei_mxnet_p36/lib/python3.6/site-packages (from gluonts) (1.19.4)\n",
      "Requirement already satisfied: python-dateutil in /home/ec2-user/anaconda3/envs/amazonei_mxnet_p36/lib/python3.6/site-packages (from holidays>=0.9->gluonts) (2.8.1)\n",
      "Requirement already satisfied: pyparsing!=2.0.4,!=2.1.2,!=2.1.6,>=2.0.1 in /home/ec2-user/anaconda3/envs/amazonei_mxnet_p36/lib/python3.6/site-packages (from matplotlib~=3.0->gluonts) (2.4.7)\n",
      "Requirement already satisfied: cycler>=0.10 in /home/ec2-user/anaconda3/envs/amazonei_mxnet_p36/lib/python3.6/site-packages (from matplotlib~=3.0->gluonts) (0.10.0)\n",
      "Requirement already satisfied: kiwisolver>=1.0.1 in /home/ec2-user/anaconda3/envs/amazonei_mxnet_p36/lib/python3.6/site-packages (from matplotlib~=3.0->gluonts) (1.1.0)\n",
      "Requirement already satisfied: six in /home/ec2-user/anaconda3/envs/amazonei_mxnet_p36/lib/python3.6/site-packages (from holidays>=0.9->gluonts) (1.15.0)\n",
      "Requirement already satisfied: setuptools in /home/ec2-user/anaconda3/envs/amazonei_mxnet_p36/lib/python3.6/site-packages (from kiwisolver>=1.0.1->matplotlib~=3.0->gluonts) (45.2.0.post20200210)\n",
      "Requirement already satisfied: python-dateutil in /home/ec2-user/anaconda3/envs/amazonei_mxnet_p36/lib/python3.6/site-packages (from holidays>=0.9->gluonts) (2.8.1)\n",
      "Requirement already satisfied: pytz<2020,>=2014.10 in /home/ec2-user/anaconda3/envs/amazonei_mxnet_p36/lib/python3.6/site-packages (from convertdate<=2.2.0->holidays>=0.9->gluonts) (2019.3)\n",
      "Requirement already satisfied: numpy~=1.16 in /home/ec2-user/anaconda3/envs/amazonei_mxnet_p36/lib/python3.6/site-packages (from gluonts) (1.19.4)\n",
      "Collecting pydantic<1.7,~=1.1\n",
      "  Downloading pydantic-1.6.1-cp36-cp36m-manylinux2014_x86_64.whl (8.7 MB)\n",
      "\u001b[K     |████████████████████████████████| 8.7 MB 11.8 MB/s eta 0:00:01     |█                               | 286 kB 11.8 MB/s eta 0:00:01\n",
      "\u001b[?25hCollecting dataclasses>=0.6\n",
      "  Downloading dataclasses-0.8-py3-none-any.whl (19 kB)\n",
      "Collecting pymeeus<=1,>=0.3.6\n",
      "  Downloading PyMeeus-0.3.7.tar.gz (732 kB)\n",
      "\u001b[K     |████████████████████████████████| 732 kB 64.7 MB/s eta 0:00:01\n",
      "\u001b[?25hRequirement already satisfied: six in /home/ec2-user/anaconda3/envs/amazonei_mxnet_p36/lib/python3.6/site-packages (from holidays>=0.9->gluonts) (1.15.0)\n",
      "Building wheels for collected packages: holidays, pymeeus\n",
      "  Building wheel for holidays (setup.py) ... \u001b[?25ldone\n",
      "\u001b[?25h  Created wheel for holidays: filename=holidays-0.10.4-py3-none-any.whl size=124774 sha256=5d626ba4b3d3a0ae90bfdea14c1869ae00fb03734e5c8bd3814cfe94c720dc8b\n",
      "  Stored in directory: /home/ec2-user/.cache/pip/wheels/24/20/e0/beaaa13a665f8a4fa4bd61ad15293eb37ca88b187c7ae0e019\n",
      "  Building wheel for pymeeus (setup.py) ... \u001b[?25ldone\n",
      "\u001b[?25h  Created wheel for pymeeus: filename=PyMeeus-0.3.7-py3-none-any.whl size=702876 sha256=c9292ab86427b52027cd25f82d8c79e6a354065e182beace9574649c9b5c5f1a\n",
      "  Stored in directory: /home/ec2-user/.cache/pip/wheels/e9/c3/07/d32faf16682e2cd245be46e4c54053c8c82fa9762f4a4bcc63\n",
      "Successfully built holidays pymeeus\n",
      "Installing collected packages: pymeeus, korean-lunar-calendar, dataclasses, convertdate, pydantic, holidays, gluonts\n",
      "Successfully installed convertdate-2.2.0 dataclasses-0.8 gluonts-0.6.4 holidays-0.10.4 korean-lunar-calendar-0.2.1 pydantic-1.6.1 pymeeus-0.3.7\n",
      "\u001b[33mWARNING: You are using pip version 20.3; however, version 20.3.3 is available.\n",
      "You should consider upgrading via the '/home/ec2-user/anaconda3/envs/amazonei_mxnet_p36/bin/python -m pip install --upgrade pip' command.\u001b[0m\n"
     ]
    }
   ],
   "source": [
    "!pip install gluonts"
   ]
  },
  {
   "cell_type": "code",
   "execution_count": 44,
   "metadata": {
    "ExecuteTime": {
     "end_time": "2021-01-21T20:35:28.152952Z",
     "start_time": "2021-01-21T20:35:28.052537Z"
    }
   },
   "outputs": [],
   "source": [
    "from __future__ import print_function\n",
    "%matplotlib inline\n",
    "import sys\n",
    "from urllib.request import urlretrieve\n",
    "import zipfile\n",
    "from dateutil.parser import parse\n",
    "import json\n",
    "from random import shuffle\n",
    "import random\n",
    "import datetime\n",
    "import os\n",
    "import boto3\n",
    "import s3fs\n",
    "import sagemaker\n",
    "import numpy as np\n",
    "import pandas as pd\n",
    "import matplotlib.pyplot as plt\n",
    "from datetime import timedelta\n",
    "from ipywidgets import interact, interactive, fixed, interact_manual\n",
    "import ipywidgets as widgets\n",
    "from ipywidgets import IntSlider, FloatSlider, Checkbox\n",
    "from statsmodels.graphics.tsaplots import plot_acf, plot_pacf\n",
    "import os\n",
    "import datetime\n",
    "import numpy as np\n",
    "import IPython\n",
    "import IPython.display\n",
    "import matplotlib as mpl\n",
    "import matplotlib.pyplot as plt\n",
    "import matplotlib.dates as mdates\n",
    "import seaborn as sns\n",
    "import plotly.express as px\n",
    "import plotly.graph_objects as go\n",
    "from gluonts.dataset.common import ListDataset\n",
    "from gluonts.dataset.field_names import FieldName\n",
    "from gluonts.dataset.util import to_pandas\n",
    "from gluonts.mx.trainer import Trainer\n",
    "from gluonts.model.deepar import DeepAREstimator\n",
    "from gluonts.mx.trainer import Trainer\n",
    "from gluonts.evaluation.backtest import make_evaluation_predictions\n",
    "from gluonts.evaluation import Evaluator\n",
    "from gluonts.dataset.common import ListDataset, MetaData, TrainDatasets"
   ]
  },
  {
   "cell_type": "code",
   "execution_count": 4,
   "metadata": {},
   "outputs": [],
   "source": [
    "# set random seeds for reproducibility\n",
    "np.random.seed(33)\n",
    "random.seed(33)"
   ]
  },
  {
   "cell_type": "code",
   "execution_count": 5,
   "metadata": {},
   "outputs": [],
   "source": [
    "sagemaker_session = sagemaker.Session()"
   ]
  },
  {
   "cell_type": "code",
   "execution_count": 6,
   "metadata": {},
   "outputs": [],
   "source": [
    "s3_bucket = sagemaker.Session().default_bucket()  # replace with an existing bucket if needed\n",
    "s3_prefix = 'natural-gas-model-hyperparameter-tuning'    # prefix used for all data stored within the bucket\n",
    "\n",
    "role = sagemaker.get_execution_role()             # IAM role to use by SageMaker"
   ]
  },
  {
   "cell_type": "code",
   "execution_count": 7,
   "metadata": {},
   "outputs": [],
   "source": [
    "region = sagemaker_session.boto_region_name\n",
    "\n",
    "s3_data_path = \"s3://{}/{}/data\".format(s3_bucket, s3_prefix)\n",
    "s3_output_path = \"s3://{}/{}/output\".format(s3_bucket, s3_prefix)"
   ]
  },
  {
   "cell_type": "code",
   "execution_count": 8,
   "metadata": {},
   "outputs": [
    {
     "name": "stderr",
     "output_type": "stream",
     "text": [
      "The method get_image_uri has been renamed in sagemaker>=2.\n",
      "See: https://sagemaker.readthedocs.io/en/stable/v2.html for details.\n",
      "Defaulting to the only supported framework/algorithm version: 1. Ignoring framework/algorithm version: latest.\n"
     ]
    }
   ],
   "source": [
    "image_name = sagemaker.amazon.amazon_estimator.get_image_uri(region, \"forecasting-deepar\", \"latest\")"
   ]
  },
  {
   "cell_type": "markdown",
   "metadata": {
    "heading_collapsed": true
   },
   "source": [
    "## Load Data & Clean "
   ]
  },
  {
   "cell_type": "code",
   "execution_count": 11,
   "metadata": {
    "ExecuteTime": {
     "end_time": "2021-01-15T01:53:35.675990Z",
     "start_time": "2021-01-15T01:53:35.084992Z"
    },
    "hidden": true
   },
   "outputs": [],
   "source": [
    "import pandas as pd\n",
    "import numpy as np\n",
    "\n",
    "price_full = pd.read_csv('naturalgasprices.csv')\n",
    "weather = pd.read_csv(r'weather.csv', index_col=0, parse_dates=True)\n",
    "storage = pd.read_csv(r'storage.csv', index_col=0, parse_dates=True)\n",
    "spot = pd.read_csv(r'spot.csv', index_col=0, parse_dates=True)\n",
    "futures = pd.read_csv(r'futures.csv', index_col=0, parse_dates=True)"
   ]
  },
  {
   "cell_type": "code",
   "execution_count": 12,
   "metadata": {
    "ExecuteTime": {
     "end_time": "2021-01-15T01:53:35.691991Z",
     "start_time": "2021-01-15T01:53:35.676992Z"
    },
    "hidden": true
   },
   "outputs": [
    {
     "data": {
      "text/html": [
       "<div>\n",
       "<style scoped>\n",
       "    .dataframe tbody tr th:only-of-type {\n",
       "        vertical-align: middle;\n",
       "    }\n",
       "\n",
       "    .dataframe tbody tr th {\n",
       "        vertical-align: top;\n",
       "    }\n",
       "\n",
       "    .dataframe thead th {\n",
       "        text-align: right;\n",
       "    }\n",
       "</style>\n",
       "<table border=\"1\" class=\"dataframe\">\n",
       "  <thead>\n",
       "    <tr style=\"text-align: right;\">\n",
       "      <th></th>\n",
       "      <th>Date</th>\n",
       "      <th>Open</th>\n",
       "      <th>High</th>\n",
       "      <th>Low</th>\n",
       "      <th>Last</th>\n",
       "      <th>Change</th>\n",
       "      <th>Settle</th>\n",
       "      <th>Volume</th>\n",
       "      <th>Previous Day Open Interest</th>\n",
       "    </tr>\n",
       "  </thead>\n",
       "  <tbody>\n",
       "    <tr>\n",
       "      <th>0</th>\n",
       "      <td>12/4/2020</td>\n",
       "      <td>2.511</td>\n",
       "      <td>2.623</td>\n",
       "      <td>2.462</td>\n",
       "      <td>2.553</td>\n",
       "      <td>0.068</td>\n",
       "      <td>2.575</td>\n",
       "      <td>140379</td>\n",
       "      <td>297838</td>\n",
       "    </tr>\n",
       "    <tr>\n",
       "      <th>1</th>\n",
       "      <td>12/3/2020</td>\n",
       "      <td>2.760</td>\n",
       "      <td>2.768</td>\n",
       "      <td>2.484</td>\n",
       "      <td>2.512</td>\n",
       "      <td>-0.273</td>\n",
       "      <td>2.507</td>\n",
       "      <td>264650</td>\n",
       "      <td>298896</td>\n",
       "    </tr>\n",
       "    <tr>\n",
       "      <th>2</th>\n",
       "      <td>12/2/2020</td>\n",
       "      <td>2.881</td>\n",
       "      <td>2.934</td>\n",
       "      <td>2.740</td>\n",
       "      <td>2.756</td>\n",
       "      <td>-0.100</td>\n",
       "      <td>2.780</td>\n",
       "      <td>142057</td>\n",
       "      <td>297401</td>\n",
       "    </tr>\n",
       "    <tr>\n",
       "      <th>3</th>\n",
       "      <td>12/1/2020</td>\n",
       "      <td>2.934</td>\n",
       "      <td>2.972</td>\n",
       "      <td>2.833</td>\n",
       "      <td>2.876</td>\n",
       "      <td>-0.002</td>\n",
       "      <td>2.880</td>\n",
       "      <td>134920</td>\n",
       "      <td>297347</td>\n",
       "    </tr>\n",
       "    <tr>\n",
       "      <th>4</th>\n",
       "      <td>11/30/2020</td>\n",
       "      <td>2.831</td>\n",
       "      <td>2.996</td>\n",
       "      <td>2.823</td>\n",
       "      <td>2.934</td>\n",
       "      <td>0.039</td>\n",
       "      <td>2.882</td>\n",
       "      <td>136195</td>\n",
       "      <td>295779</td>\n",
       "    </tr>\n",
       "  </tbody>\n",
       "</table>\n",
       "</div>"
      ],
      "text/plain": [
       "         Date   Open   High    Low   Last  Change  Settle  Volume  \\\n",
       "0   12/4/2020  2.511  2.623  2.462  2.553   0.068   2.575  140379   \n",
       "1   12/3/2020  2.760  2.768  2.484  2.512  -0.273   2.507  264650   \n",
       "2   12/2/2020  2.881  2.934  2.740  2.756  -0.100   2.780  142057   \n",
       "3   12/1/2020  2.934  2.972  2.833  2.876  -0.002   2.880  134920   \n",
       "4  11/30/2020  2.831  2.996  2.823  2.934   0.039   2.882  136195   \n",
       "\n",
       "   Previous Day Open Interest  \n",
       "0                      297838  \n",
       "1                      298896  \n",
       "2                      297401  \n",
       "3                      297347  \n",
       "4                      295779  "
      ]
     },
     "execution_count": 12,
     "metadata": {},
     "output_type": "execute_result"
    }
   ],
   "source": [
    "price_full.head()"
   ]
  },
  {
   "cell_type": "code",
   "execution_count": 13,
   "metadata": {
    "ExecuteTime": {
     "end_time": "2021-01-15T01:53:36.013020Z",
     "start_time": "2021-01-15T01:53:35.692991Z"
    },
    "hidden": true
   },
   "outputs": [],
   "source": [
    "price_full = price_full[['Date','Settle','Volume','Open','High','Low']]\n",
    "price_full['Date'] = pd.to_datetime(price_full['Date'])"
   ]
  },
  {
   "cell_type": "code",
   "execution_count": 14,
   "metadata": {
    "ExecuteTime": {
     "end_time": "2021-01-15T01:53:36.021991Z",
     "start_time": "2021-01-15T01:53:36.013991Z"
    },
    "hidden": true
   },
   "outputs": [
    {
     "data": {
      "text/html": [
       "<div>\n",
       "<style scoped>\n",
       "    .dataframe tbody tr th:only-of-type {\n",
       "        vertical-align: middle;\n",
       "    }\n",
       "\n",
       "    .dataframe tbody tr th {\n",
       "        vertical-align: top;\n",
       "    }\n",
       "\n",
       "    .dataframe thead th {\n",
       "        text-align: right;\n",
       "    }\n",
       "</style>\n",
       "<table border=\"1\" class=\"dataframe\">\n",
       "  <thead>\n",
       "    <tr style=\"text-align: right;\">\n",
       "      <th></th>\n",
       "      <th>Settle</th>\n",
       "      <th>Volume</th>\n",
       "      <th>Open</th>\n",
       "      <th>High</th>\n",
       "      <th>Low</th>\n",
       "    </tr>\n",
       "    <tr>\n",
       "      <th>Date</th>\n",
       "      <th></th>\n",
       "      <th></th>\n",
       "      <th></th>\n",
       "      <th></th>\n",
       "      <th></th>\n",
       "    </tr>\n",
       "  </thead>\n",
       "  <tbody>\n",
       "    <tr>\n",
       "      <th>1990-04-03</th>\n",
       "      <td>1.635</td>\n",
       "      <td>240</td>\n",
       "      <td>1.580</td>\n",
       "      <td>1.655</td>\n",
       "      <td>1.580</td>\n",
       "    </tr>\n",
       "    <tr>\n",
       "      <th>1990-04-04</th>\n",
       "      <td>1.620</td>\n",
       "      <td>84</td>\n",
       "      <td>1.620</td>\n",
       "      <td>1.650</td>\n",
       "      <td>1.599</td>\n",
       "    </tr>\n",
       "    <tr>\n",
       "      <th>1990-04-05</th>\n",
       "      <td>1.615</td>\n",
       "      <td>57</td>\n",
       "      <td>1.615</td>\n",
       "      <td>1.635</td>\n",
       "      <td>1.610</td>\n",
       "    </tr>\n",
       "    <tr>\n",
       "      <th>1990-04-06</th>\n",
       "      <td>1.625</td>\n",
       "      <td>62</td>\n",
       "      <td>1.615</td>\n",
       "      <td>1.635</td>\n",
       "      <td>1.610</td>\n",
       "    </tr>\n",
       "    <tr>\n",
       "      <th>1990-04-09</th>\n",
       "      <td>1.637</td>\n",
       "      <td>37</td>\n",
       "      <td>1.612</td>\n",
       "      <td>1.640</td>\n",
       "      <td>1.612</td>\n",
       "    </tr>\n",
       "  </tbody>\n",
       "</table>\n",
       "</div>"
      ],
      "text/plain": [
       "            Settle  Volume   Open   High    Low\n",
       "Date                                           \n",
       "1990-04-03   1.635     240  1.580  1.655  1.580\n",
       "1990-04-04   1.620      84  1.620  1.650  1.599\n",
       "1990-04-05   1.615      57  1.615  1.635  1.610\n",
       "1990-04-06   1.625      62  1.615  1.635  1.610\n",
       "1990-04-09   1.637      37  1.612  1.640  1.612"
      ]
     },
     "execution_count": 14,
     "metadata": {},
     "output_type": "execute_result"
    }
   ],
   "source": [
    "price_full = price_full.sort_index(ascending=False)\n",
    "price_full.set_index('Date', inplace=True)\n",
    "\n",
    "price_full.head()"
   ]
  },
  {
   "cell_type": "code",
   "execution_count": 15,
   "metadata": {
    "ExecuteTime": {
     "end_time": "2021-01-15T01:53:36.025992Z",
     "start_time": "2021-01-15T01:53:36.022992Z"
    },
    "hidden": true
   },
   "outputs": [],
   "source": [
    "#display(weather.head(), storage.head(), spot.head(), futures.head());\n",
    "\n",
    "#display(spot.info(), weather.info(), storage.info(), futures.info());"
   ]
  },
  {
   "cell_type": "code",
   "execution_count": 16,
   "metadata": {
    "ExecuteTime": {
     "end_time": "2021-01-15T01:53:36.039004Z",
     "start_time": "2021-01-15T01:53:36.026993Z"
    },
    "hidden": true
   },
   "outputs": [
    {
     "data": {
      "text/html": [
       "<div>\n",
       "<style scoped>\n",
       "    .dataframe tbody tr th:only-of-type {\n",
       "        vertical-align: middle;\n",
       "    }\n",
       "\n",
       "    .dataframe tbody tr th {\n",
       "        vertical-align: top;\n",
       "    }\n",
       "\n",
       "    .dataframe thead th {\n",
       "        text-align: right;\n",
       "    }\n",
       "</style>\n",
       "<table border=\"1\" class=\"dataframe\">\n",
       "  <thead>\n",
       "    <tr style=\"text-align: right;\">\n",
       "      <th></th>\n",
       "      <th>HDD</th>\n",
       "      <th>CDD</th>\n",
       "      <th>CONUS</th>\n",
       "    </tr>\n",
       "    <tr>\n",
       "      <th>Date</th>\n",
       "      <th></th>\n",
       "      <th></th>\n",
       "      <th></th>\n",
       "    </tr>\n",
       "  </thead>\n",
       "  <tbody>\n",
       "    <tr>\n",
       "      <th>2011-01-07</th>\n",
       "      <td>30</td>\n",
       "      <td>0</td>\n",
       "      <td>2960.000000</td>\n",
       "    </tr>\n",
       "    <tr>\n",
       "      <th>2011-01-08</th>\n",
       "      <td>33</td>\n",
       "      <td>0</td>\n",
       "      <td>2925.142857</td>\n",
       "    </tr>\n",
       "  </tbody>\n",
       "</table>\n",
       "</div>"
      ],
      "text/plain": [
       "            HDD  CDD        CONUS\n",
       "Date                             \n",
       "2011-01-07   30    0  2960.000000\n",
       "2011-01-08   33    0  2925.142857"
      ]
     },
     "execution_count": 16,
     "metadata": {},
     "output_type": "execute_result"
    }
   ],
   "source": [
    "merged = weather.merge(storage, how='outer', left_index=True, right_index=True)\n",
    "merged_fill = merged.interpolate(method='linear', axis=0)\n",
    "\n",
    "merged_fill.head(2)"
   ]
  },
  {
   "cell_type": "code",
   "execution_count": 19,
   "metadata": {
    "ExecuteTime": {
     "end_time": "2021-01-15T01:53:36.048994Z",
     "start_time": "2021-01-15T01:53:36.039991Z"
    },
    "hidden": true
   },
   "outputs": [
    {
     "data": {
      "text/html": [
       "<div>\n",
       "<style scoped>\n",
       "    .dataframe tbody tr th:only-of-type {\n",
       "        vertical-align: middle;\n",
       "    }\n",
       "\n",
       "    .dataframe tbody tr th {\n",
       "        vertical-align: top;\n",
       "    }\n",
       "\n",
       "    .dataframe thead th {\n",
       "        text-align: right;\n",
       "    }\n",
       "</style>\n",
       "<table border=\"1\" class=\"dataframe\">\n",
       "  <thead>\n",
       "    <tr style=\"text-align: right;\">\n",
       "      <th></th>\n",
       "      <th>HDD</th>\n",
       "      <th>CDD</th>\n",
       "      <th>CONUS</th>\n",
       "      <th>Spot</th>\n",
       "    </tr>\n",
       "    <tr>\n",
       "      <th>Date</th>\n",
       "      <th></th>\n",
       "      <th></th>\n",
       "      <th></th>\n",
       "      <th></th>\n",
       "    </tr>\n",
       "  </thead>\n",
       "  <tbody>\n",
       "    <tr>\n",
       "      <th>2011-01-07</th>\n",
       "      <td>30</td>\n",
       "      <td>0</td>\n",
       "      <td>2960.000000</td>\n",
       "      <td>4.420000</td>\n",
       "    </tr>\n",
       "    <tr>\n",
       "      <th>2011-01-08</th>\n",
       "      <td>33</td>\n",
       "      <td>0</td>\n",
       "      <td>2925.142857</td>\n",
       "      <td>4.443333</td>\n",
       "    </tr>\n",
       "    <tr>\n",
       "      <th>2011-01-09</th>\n",
       "      <td>35</td>\n",
       "      <td>0</td>\n",
       "      <td>2890.285714</td>\n",
       "      <td>4.466667</td>\n",
       "    </tr>\n",
       "    <tr>\n",
       "      <th>2011-01-10</th>\n",
       "      <td>36</td>\n",
       "      <td>0</td>\n",
       "      <td>2855.428571</td>\n",
       "      <td>4.490000</td>\n",
       "    </tr>\n",
       "    <tr>\n",
       "      <th>2011-01-11</th>\n",
       "      <td>36</td>\n",
       "      <td>0</td>\n",
       "      <td>2820.571429</td>\n",
       "      <td>4.420000</td>\n",
       "    </tr>\n",
       "  </tbody>\n",
       "</table>\n",
       "</div>"
      ],
      "text/plain": [
       "            HDD  CDD        CONUS      Spot\n",
       "Date                                       \n",
       "2011-01-07   30    0  2960.000000  4.420000\n",
       "2011-01-08   33    0  2925.142857  4.443333\n",
       "2011-01-09   35    0  2890.285714  4.466667\n",
       "2011-01-10   36    0  2855.428571  4.490000\n",
       "2011-01-11   36    0  2820.571429  4.420000"
      ]
     },
     "execution_count": 19,
     "metadata": {},
     "output_type": "execute_result"
    }
   ],
   "source": [
    "full_fill = merged_fill.join(spot)\n",
    "full_df = full_fill.interpolate(method='linear', axis=0)\n",
    "\n",
    "full_df.head()"
   ]
  },
  {
   "cell_type": "markdown",
   "metadata": {},
   "source": [
    "##  Creating a Forecast Model"
   ]
  },
  {
   "cell_type": "code",
   "execution_count": 20,
   "metadata": {
    "ExecuteTime": {
     "end_time": "2021-01-21T20:39:21.516540Z",
     "start_time": "2021-01-21T20:39:21.512554Z"
    }
   },
   "outputs": [],
   "source": [
    "# specifying hyperparameters which will be consistent for all models\n",
    "context_length = 28 # size of rolling window used to create forecast\n",
    "prediction_length = 14 # size of forecast window\n",
    "freq= 'D' # periodicity of forecast points"
   ]
  },
  {
   "cell_type": "code",
   "execution_count": 21,
   "metadata": {
    "ExecuteTime": {
     "end_time": "2021-01-21T20:39:22.603839Z",
     "start_time": "2021-01-21T20:39:22.581978Z"
    }
   },
   "outputs": [],
   "source": [
    "from gluonts.model.deepar import DeepAREstimator\n",
    "from gluonts.mx.trainer import Trainer\n",
    "from gluonts.evaluation.backtest import make_evaluation_predictions\n",
    "\n",
    "estimator = DeepAREstimator(freq=freq,\n",
    "                            num_layers = 2,\n",
    "                            num_cells = 32,\n",
    "                            cell_type = 'lstm',\n",
    "                            context_length=context_length,\n",
    "                            prediction_length=prediction_length,\n",
    "                            dropout_rate=0.2,\n",
    "                            use_feat_dynamic_real=True,\n",
    "                            trainer=Trainer(epochs=32))"
   ]
  },
  {
   "cell_type": "markdown",
   "metadata": {},
   "source": [
    "### Creating In-Sample Forecast"
   ]
  },
  {
   "cell_type": "code",
   "execution_count": 22,
   "metadata": {
    "ExecuteTime": {
     "end_time": "2021-01-21T20:39:24.662815Z",
     "start_time": "2021-01-21T20:39:24.629596Z"
    }
   },
   "outputs": [],
   "source": [
    "train_ds = ListDataset([{FieldName.TARGET: full_df['Spot'][:-prediction_length],\n",
    "                         FieldName.FEAT_DYNAMIC_REAL: full_df[['HDD','CDD','CONUS']][:-prediction_length].values.T,\n",
    "                         FieldName.START: full_df.index[0]}],\n",
    "                         freq=freq)\n",
    "\n",
    "test_ds = ListDataset([{FieldName.TARGET: full_df['Spot'],\n",
    "                         FieldName.FEAT_DYNAMIC_REAL: full_df[['HDD','CDD','CONUS']].values.T,\n",
    "                         FieldName.START: full_df.index[0]}],\n",
    "                         freq=freq)"
   ]
  },
  {
   "cell_type": "code",
   "execution_count": 45,
   "metadata": {},
   "outputs": [],
   "source": [
    "datasets = TrainDatasets(\n",
    "                        metadata=MetaData(\n",
    "                                         freq=freq,\n",
    "                                         target={'name': 'Spot'},\n",
    "                                         prediction_length = prediction_length),\n",
    "    \n",
    "    train=train_ds,\n",
    "    test=test_ds\n",
    "\n",
    ")"
   ]
  },
  {
   "cell_type": "markdown",
   "metadata": {},
   "source": [
    "## Exporting Data to Sagemaker "
   ]
  },
  {
   "cell_type": "code",
   "execution_count": 46,
   "metadata": {},
   "outputs": [],
   "source": [
    "s3 = boto3.resource('s3')\n",
    "def copy_to_s3(local_file, s3_path, override=False):\n",
    "    assert s3_path.startswith('s3://')\n",
    "    split = s3_path.split('/')\n",
    "    bucket = split[2]\n",
    "    path = '/'.join(split[3:])\n",
    "    buk = s3.Bucket(bucket)\n",
    "    \n",
    "    if len(list(buk.objects.filter(Prefix=path))) > 0:\n",
    "        if not override:\n",
    "            print('File s3://{}/{} already exists.\\nSet override to upload anyway.\\n'.format(s3_bucket, s3_path))\n",
    "            return\n",
    "        else:\n",
    "            print('Overwriting existing file')\n",
    "    with open(local_file, 'rb') as data:\n",
    "        print('Uploading file to {}'.format(s3_path))\n",
    "        buk.put_object(Key=path, Body=data)"
   ]
  },
  {
   "cell_type": "code",
   "execution_count": 47,
   "metadata": {},
   "outputs": [
    {
     "name": "stdout",
     "output_type": "stream",
     "text": [
      "Uploading file to s3://sagemaker-us-east-2-689362889350/natural-gas-model-hyperparameter-tuning/data/train/train.json\n",
      "Uploading file to s3://sagemaker-us-east-2-689362889350/natural-gas-model-hyperparameter-tuning/data/test/test.json\n",
      "CPU times: user 41.3 ms, sys: 4.12 ms, total: 45.4 ms\n",
      "Wall time: 226 ms\n"
     ]
    }
   ],
   "source": [
    "%%time\n",
    "copy_to_s3(\"train.json\", s3_data_path + \"/train/train.json\")\n",
    "copy_to_s3(\"test.json\", s3_data_path + \"/test/test.json\")"
   ]
  },
  {
   "cell_type": "code",
   "execution_count": 48,
   "metadata": {},
   "outputs": [
    {
     "name": "stdout",
     "output_type": "stream",
     "text": [
      "{\"target\":[4.4200000763,4.443333149,4.4666666985,4.4899997711,4.4200000763,4.5500001907,4.4800000191...\n"
     ]
    }
   ],
   "source": [
    "s3filesystem = s3fs.S3FileSystem()\n",
    "with s3filesystem.open(s3_data_path + \"/train/train.json\", 'rb') as fp:\n",
    "    print(fp.readline().decode(\"utf-8\")[:100] + \"...\")"
   ]
  },
  {
   "cell_type": "markdown",
   "metadata": {},
   "source": [
    "## Creating the Sagemaker Model "
   ]
  },
  {
   "cell_type": "code",
   "execution_count": 53,
   "metadata": {},
   "outputs": [],
   "source": [
    "estimator = sagemaker.estimator.Estimator(\n",
    "    image_uri=image_name,\n",
    "    sagemaker_session=sagemaker_session,\n",
    "    role=role,\n",
    "    instance_count=1,\n",
    "    instance_type='ml.c4.2xlarge',\n",
    "    base_job_name='natural-gas-model-tuner',\n",
    "    output_path=s3_output_path\n",
    ")\n",
    "\n",
    "%%time\n",
    "\n",
    "data_channels = {\n",
    "    \"train\": \"{}/train/\".format(s3_data_path),\n",
    "    \"test\": \"{}/test/\".format(s3_data_path)\n",
    "}\n",
    "\n",
    "estimator.fit(inputs=data_channels, wait=True)"
   ]
  },
  {
   "cell_type": "markdown",
   "metadata": {},
   "source": [
    "## Defining the Static Hyperparameters "
   ]
  },
  {
   "cell_type": "code",
   "execution_count": 56,
   "metadata": {},
   "outputs": [],
   "source": [
    "static_hyperparameters = {\n",
    "    'time_freq': freq,\n",
    "    'epochs': 400,\n",
    "    'early_stopping_patience': 40,\n",
    "    'mini_batch_size': 64,\n",
    "    'learning_rate': 5E-4,\n",
    "    'context_length': str(context_length),\n",
    "    'prediction_length': str(prediction_length)\n",
    "}\n",
    "\n",
    "estimator.set_hyperparameters(**static_hyperparameters)"
   ]
  },
  {
   "cell_type": "markdown",
   "metadata": {},
   "source": [
    "## Establishing Dynamic Hyperparameter Tuning Ranges "
   ]
  },
  {
   "cell_type": "code",
   "execution_count": 55,
   "metadata": {},
   "outputs": [],
   "source": [
    "from sagemaker.tuner import IntegerParameter, CategoricalParameter, ContinuousParameter, HyperparameterTuner"
   ]
  },
  {
   "cell_type": "code",
   "execution_count": 57,
   "metadata": {},
   "outputs": [],
   "source": [
    "tuned_hyperparameter_ranges = {\n",
    "    'num_cells' : IntegerParameter(30, 200),\n",
    "    'num_layers' : IntegerParameter(1, 4),\n",
    "    'dropout_rate' : ContinuousParameter(0.0, 0.9),\n",
    "    'embedding_dimension' : IntegerParameter(10, 100),\n",
    "    'learning_rate' : ContinuousParameter(1e-5, 0.1)\n",
    "}"
   ]
  },
  {
   "cell_type": "code",
   "execution_count": 63,
   "metadata": {},
   "outputs": [
    {
     "name": "stdout",
     "output_type": "stream",
     "text": [
      ".........................................................................................................................................................................................................................................................................................................................................................................................................................................................................................................................................................................................................................................................................................................................................................................................................................................................................................................................................................................................................................................................................................................................................................................................................................................................................................................................................................................................................................................................................................................................................................................................................................................................................................................................................................................................................................................................................................................................................................................................................................................................................................................................................................................................................!\n",
      "CPU times: user 11.9 s, sys: 667 ms, total: 12.6 s\n",
      "Wall time: 2h 58min 23s\n"
     ]
    }
   ],
   "source": [
    "%%time\n",
    "import uuid\n",
    "\n",
    "tuner = HyperparameterTuner(estimator,\n",
    "                            objective_metric_name='test:RMSE',\n",
    "                            objective_type='Minimize',\n",
    "                            hyperparameter_ranges=tuned_hyperparameter_ranges,\n",
    "                            max_jobs=50,\n",
    "                            max_parallel_jobs=4)\n",
    "\n",
    "tuner.fit(inputs=data_channels, job_name='tune-model-ng-'+str(uuid.uuid4())[:5],\n",
    "          include_cls_metadata=False)"
   ]
  },
  {
   "cell_type": "code",
   "execution_count": 403,
   "metadata": {
    "ExecuteTime": {
     "end_time": "2021-01-21T20:40:56.661031Z",
     "start_time": "2021-01-21T20:39:25.527343Z"
    }
   },
   "outputs": [
    {
     "name": "stderr",
     "output_type": "stream",
     "text": [
      "WARNING:gluonts.dataset.loader:Multiprocessing is not supported on Windows, num_workers will be set to None.\n",
      "  0%|                                                                                           | 0/50 [00:00<?, ?it/s]"
     ]
    },
    {
     "name": "stdout",
     "output_type": "stream",
     "text": [
      "learning rate from ``lr_scheduler`` has been overwritten by ``learning_rate`` in optimizer.\n"
     ]
    },
    {
     "name": "stderr",
     "output_type": "stream",
     "text": [
      "100%|████████████████████████████████████████████████| 50/50 [00:02<00:00, 17.73it/s, epoch=1/32, avg_epoch_loss=0.987]\n",
      "100%|██████████████████████████████████████████████| 50/50 [00:02<00:00, 20.28it/s, epoch=2/32, avg_epoch_loss=0.00111]\n",
      "100%|███████████████████████████████████████████████| 50/50 [00:02<00:00, 20.49it/s, epoch=3/32, avg_epoch_loss=-.0753]\n",
      "100%|███████████████████████████████████████████████| 50/50 [00:02<00:00, 20.53it/s, epoch=4/32, avg_epoch_loss=-.0643]\n",
      "100%|███████████████████████████████████████████████| 50/50 [00:02<00:00, 20.30it/s, epoch=5/32, avg_epoch_loss=-.0321]\n",
      "100%|███████████████████████████████████████████████| 50/50 [00:02<00:00, 20.09it/s, epoch=6/32, avg_epoch_loss=-.0976]\n",
      "100%|███████████████████████████████████████████████| 50/50 [00:02<00:00, 19.89it/s, epoch=7/32, avg_epoch_loss=-.0673]\n",
      "100%|███████████████████████████████████████████████| 50/50 [00:02<00:00, 20.17it/s, epoch=8/32, avg_epoch_loss=-.0767]\n",
      "100%|███████████████████████████████████████████████| 50/50 [00:02<00:00, 20.20it/s, epoch=9/32, avg_epoch_loss=-.0768]\n",
      "100%|██████████████████████████████████████████████| 50/50 [00:02<00:00, 20.61it/s, epoch=10/32, avg_epoch_loss=-.0949]\n",
      "100%|██████████████████████████████████████████████| 50/50 [00:02<00:00, 20.47it/s, epoch=11/32, avg_epoch_loss=-.0804]\n",
      "100%|██████████████████████████████████████████████| 50/50 [00:02<00:00, 19.70it/s, epoch=12/32, avg_epoch_loss=-.0902]\n",
      "100%|████████████████████████████████████████████████| 50/50 [00:02<00:00, 18.42it/s, epoch=13/32, avg_epoch_loss=-.07]\n",
      "100%|████████████████████████████████████████████████| 50/50 [00:02<00:00, 17.54it/s, epoch=14/32, avg_epoch_loss=-.13]\n",
      "100%|███████████████████████████████████████████████| 50/50 [00:03<00:00, 16.33it/s, epoch=15/32, avg_epoch_loss=-.122]\n",
      "100%|███████████████████████████████████████████████| 50/50 [00:02<00:00, 17.51it/s, epoch=16/32, avg_epoch_loss=-.142]\n",
      "100%|███████████████████████████████████████████████| 50/50 [00:02<00:00, 18.36it/s, epoch=17/32, avg_epoch_loss=-.144]\n",
      "100%|████████████████████████████████████████████████| 50/50 [00:02<00:00, 17.64it/s, epoch=18/32, avg_epoch_loss=-.14]\n",
      "100%|███████████████████████████████████████████████| 50/50 [00:03<00:00, 15.94it/s, epoch=19/32, avg_epoch_loss=-.145]\n",
      "100%|███████████████████████████████████████████████| 50/50 [00:03<00:00, 16.42it/s, epoch=20/32, avg_epoch_loss=-.152]\n",
      "100%|███████████████████████████████████████████████| 50/50 [00:02<00:00, 16.76it/s, epoch=21/32, avg_epoch_loss=-.161]\n",
      "100%|███████████████████████████████████████████████| 50/50 [00:02<00:00, 17.05it/s, epoch=22/32, avg_epoch_loss=-.165]\n",
      "100%|████████████████████████████████████████████████| 50/50 [00:02<00:00, 17.30it/s, epoch=23/32, avg_epoch_loss=-.15]\n",
      "100%|████████████████████████████████████████████████| 50/50 [00:02<00:00, 17.28it/s, epoch=24/32, avg_epoch_loss=-.19]\n",
      "100%|███████████████████████████████████████████████| 50/50 [00:03<00:00, 15.94it/s, epoch=25/32, avg_epoch_loss=-.174]\n",
      "100%|███████████████████████████████████████████████| 50/50 [00:03<00:00, 16.31it/s, epoch=26/32, avg_epoch_loss=-.147]\n",
      "100%|███████████████████████████████████████████████| 50/50 [00:03<00:00, 15.78it/s, epoch=27/32, avg_epoch_loss=-.136]\n",
      "100%|███████████████████████████████████████████████| 50/50 [00:03<00:00, 15.01it/s, epoch=28/32, avg_epoch_loss=-.139]\n",
      "100%|███████████████████████████████████████████████| 50/50 [00:03<00:00, 15.35it/s, epoch=29/32, avg_epoch_loss=-.169]\n",
      "100%|███████████████████████████████████████████████| 50/50 [00:03<00:00, 15.51it/s, epoch=30/32, avg_epoch_loss=-.149]\n",
      "100%|████████████████████████████████████████████████| 50/50 [00:03<00:00, 15.52it/s, epoch=31/32, avg_epoch_loss=-.13]\n",
      "100%|████████████████████████████████████████████████| 50/50 [00:03<00:00, 15.04it/s, epoch=32/32, avg_epoch_loss=-.18]\n"
     ]
    }
   ],
   "source": [
    "predictor = estimator.train(train_ds)"
   ]
  },
  {
   "cell_type": "code",
   "execution_count": 404,
   "metadata": {
    "ExecuteTime": {
     "end_time": "2021-01-21T20:56:23.711460Z",
     "start_time": "2021-01-21T20:56:23.708484Z"
    }
   },
   "outputs": [],
   "source": [
    "forecast_it, ts_it = make_evaluation_predictions(\n",
    "                                                dataset=test_ds,  # test dataset\n",
    "                                                predictor=predictor,  # predictor\n",
    "                                                num_samples=100)  # number of sample paths we want for evaluation"
   ]
  },
  {
   "cell_type": "code",
   "execution_count": 405,
   "metadata": {
    "ExecuteTime": {
     "end_time": "2021-01-21T20:56:24.590414Z",
     "start_time": "2021-01-21T20:56:24.465275Z"
    }
   },
   "outputs": [],
   "source": [
    "forecasts = list(forecast_it)\n",
    "tss = list(ts_it)"
   ]
  },
  {
   "cell_type": "code",
   "execution_count": 406,
   "metadata": {
    "ExecuteTime": {
     "end_time": "2021-01-21T20:56:26.007997Z",
     "start_time": "2021-01-21T20:56:26.003993Z"
    }
   },
   "outputs": [],
   "source": [
    "# first entry of the time series list\n",
    "ts_entry = tss[0]"
   ]
  },
  {
   "cell_type": "code",
   "execution_count": 413,
   "metadata": {
    "ExecuteTime": {
     "end_time": "2021-01-21T20:58:53.237209Z",
     "start_time": "2021-01-21T20:58:53.234211Z"
    }
   },
   "outputs": [],
   "source": [
    "test_ds_entry = next(iter(test_ds))"
   ]
  },
  {
   "cell_type": "code",
   "execution_count": 407,
   "metadata": {
    "ExecuteTime": {
     "end_time": "2021-01-21T20:56:26.994211Z",
     "start_time": "2021-01-21T20:56:26.990345Z"
    }
   },
   "outputs": [],
   "source": [
    "# first entry of the forecast list\n",
    "forecast_entry = forecasts[0]"
   ]
  },
  {
   "cell_type": "code",
   "execution_count": 408,
   "metadata": {
    "ExecuteTime": {
     "end_time": "2021-01-21T20:56:27.866300Z",
     "start_time": "2021-01-21T20:56:27.863311Z"
    }
   },
   "outputs": [
    {
     "name": "stdout",
     "output_type": "stream",
     "text": [
      "Number of sample paths: 100\n",
      "Dimension of samples: (100, 14)\n",
      "Start date of the forecast window: 2020-12-12 00:00:00\n",
      "Frequency of the time series: D\n"
     ]
    }
   ],
   "source": [
    "print(f\"Number of sample paths: {forecast_entry.num_samples}\")\n",
    "print(f\"Dimension of samples: {forecast_entry.samples.shape}\")\n",
    "print(f\"Start date of the forecast window: {forecast_entry.start_date}\")\n",
    "print(f\"Frequency of the time series: {forecast_entry.freq}\")"
   ]
  },
  {
   "cell_type": "code",
   "execution_count": 365,
   "metadata": {
    "ExecuteTime": {
     "end_time": "2021-01-16T03:31:55.595274Z",
     "start_time": "2021-01-16T03:31:55.590314Z"
    }
   },
   "outputs": [],
   "source": [
    "def plot_prob_forecasts(ts_entry, forecast_entry):\n",
    "    plot_length = 56\n",
    "    \n",
    "    prediction_intervals = (50.0, 90.0)\n",
    "    legend = ['observed price', 'median prediction'] + [f'{k}% prediction interval' for k in prediction_intervals][::-1]\n",
    "\n",
    "    fig, ax = plt.subplots(1, 1, figsize=(10, 7))\n",
    "    ts_entry[-plot_length:].plot(ax=ax, color='black')  # plot the time series\n",
    "    forecast_entry.plot(prediction_intervals=prediction_intervals, color='dodgerblue')\n",
    "    plt.grid(which=\"major\")\n",
    "    plt.legend(legend, loc=\"upper left\")\n",
    "    plt.show()"
   ]
  },
  {
   "cell_type": "code",
   "execution_count": 366,
   "metadata": {
    "ExecuteTime": {
     "end_time": "2021-01-16T03:31:56.350314Z",
     "start_time": "2021-01-16T03:31:56.081274Z"
    }
   },
   "outputs": [
    {
     "data": {
      "image/png": "[encoded data removed]",
      "text/plain": [
       "<Figure size 720x504 with 1 Axes>"
      ]
     },
     "metadata": {
      "needs_background": "light"
     },
     "output_type": "display_data"
    }
   ],
   "source": [
    "plot_prob_forecasts(ts_entry, forecast_entry)"
   ]
  },
  {
   "cell_type": "markdown",
   "metadata": {},
   "source": [
    "### Creating a Future Forecast "
   ]
  },
  {
   "cell_type": "code",
   "execution_count": 370,
   "metadata": {
    "ExecuteTime": {
     "end_time": "2021-01-16T05:58:36.650263Z",
     "start_time": "2021-01-16T05:58:36.638254Z"
    }
   },
   "outputs": [],
   "source": [
    "from current_weather_grabber import *"
   ]
  },
  {
   "cell_type": "code",
   "execution_count": 371,
   "metadata": {
    "ExecuteTime": {
     "end_time": "2021-01-16T05:58:42.616627Z",
     "start_time": "2021-01-16T05:58:37.217856Z"
    }
   },
   "outputs": [],
   "source": [
    "scrape_weather()"
   ]
  },
  {
   "cell_type": "code",
   "execution_count": 372,
   "metadata": {
    "ExecuteTime": {
     "end_time": "2021-01-16T05:59:10.653724Z",
     "start_time": "2021-01-16T05:59:10.632694Z"
    }
   },
   "outputs": [],
   "source": [
    "current_weather = pd.read_csv(r'current_weather.csv', index_col=0, parse_dates=True)\n",
    "\n",
    "future_forecast = full_df.append(current_weather)"
   ]
  },
  {
   "cell_type": "code",
   "execution_count": 373,
   "metadata": {
    "ExecuteTime": {
     "end_time": "2021-01-16T05:59:11.273262Z",
     "start_time": "2021-01-16T05:59:11.261325Z"
    }
   },
   "outputs": [],
   "source": [
    "future_forecast.at['2021-01-01', 'CONUS'] = 3139\n",
    "future_forecast.at['2021-01-08', 'CONUS'] = 2978\n",
    "future_forecast.drop(['Temp','Base_Temp','Year'], axis=1, inplace=True)\n",
    "future_forecast['CONUS'] = future_forecast['CONUS'].interpolate()"
   ]
  },
  {
   "cell_type": "code",
   "execution_count": 374,
   "metadata": {
    "ExecuteTime": {
     "end_time": "2021-01-16T05:59:11.802460Z",
     "start_time": "2021-01-16T05:59:11.789459Z"
    }
   },
   "outputs": [
    {
     "data": {
      "text/html": [
       "<div>\n",
       "<style scoped>\n",
       "    .dataframe tbody tr th:only-of-type {\n",
       "        vertical-align: middle;\n",
       "    }\n",
       "\n",
       "    .dataframe tbody tr th {\n",
       "        vertical-align: top;\n",
       "    }\n",
       "\n",
       "    .dataframe thead th {\n",
       "        text-align: right;\n",
       "    }\n",
       "</style>\n",
       "<table border=\"1\" class=\"dataframe\">\n",
       "  <thead>\n",
       "    <tr style=\"text-align: right;\">\n",
       "      <th></th>\n",
       "      <th>HDD</th>\n",
       "      <th>CDD</th>\n",
       "      <th>CONUS</th>\n",
       "      <th>Spot</th>\n",
       "    </tr>\n",
       "  </thead>\n",
       "  <tbody>\n",
       "    <tr>\n",
       "      <th>2020-12-24</th>\n",
       "      <td>25.00</td>\n",
       "      <td>0.00</td>\n",
       "      <td>3476.285714</td>\n",
       "      <td>2.68</td>\n",
       "    </tr>\n",
       "    <tr>\n",
       "      <th>2020-12-25</th>\n",
       "      <td>28.00</td>\n",
       "      <td>0.00</td>\n",
       "      <td>3460.000000</td>\n",
       "      <td>2.62</td>\n",
       "    </tr>\n",
       "    <tr>\n",
       "      <th>2020-12-26</th>\n",
       "      <td>21.81</td>\n",
       "      <td>0.58</td>\n",
       "      <td>3414.142857</td>\n",
       "      <td>NaN</td>\n",
       "    </tr>\n",
       "    <tr>\n",
       "      <th>2020-12-27</th>\n",
       "      <td>21.83</td>\n",
       "      <td>0.53</td>\n",
       "      <td>3368.285714</td>\n",
       "      <td>NaN</td>\n",
       "    </tr>\n",
       "    <tr>\n",
       "      <th>2020-12-28</th>\n",
       "      <td>21.80</td>\n",
       "      <td>0.24</td>\n",
       "      <td>3322.428571</td>\n",
       "      <td>NaN</td>\n",
       "    </tr>\n",
       "    <tr>\n",
       "      <th>2020-12-29</th>\n",
       "      <td>22.67</td>\n",
       "      <td>0.05</td>\n",
       "      <td>3276.571429</td>\n",
       "      <td>NaN</td>\n",
       "    </tr>\n",
       "    <tr>\n",
       "      <th>2020-12-30</th>\n",
       "      <td>21.53</td>\n",
       "      <td>0.06</td>\n",
       "      <td>3230.714286</td>\n",
       "      <td>NaN</td>\n",
       "    </tr>\n",
       "    <tr>\n",
       "      <th>2020-12-31</th>\n",
       "      <td>17.74</td>\n",
       "      <td>0.38</td>\n",
       "      <td>3184.857143</td>\n",
       "      <td>NaN</td>\n",
       "    </tr>\n",
       "    <tr>\n",
       "      <th>2021-01-01</th>\n",
       "      <td>22.96</td>\n",
       "      <td>0.66</td>\n",
       "      <td>3139.000000</td>\n",
       "      <td>NaN</td>\n",
       "    </tr>\n",
       "    <tr>\n",
       "      <th>2021-01-02</th>\n",
       "      <td>24.02</td>\n",
       "      <td>0.50</td>\n",
       "      <td>3116.000000</td>\n",
       "      <td>NaN</td>\n",
       "    </tr>\n",
       "    <tr>\n",
       "      <th>2021-01-03</th>\n",
       "      <td>21.97</td>\n",
       "      <td>1.29</td>\n",
       "      <td>3093.000000</td>\n",
       "      <td>NaN</td>\n",
       "    </tr>\n",
       "    <tr>\n",
       "      <th>2021-01-04</th>\n",
       "      <td>23.08</td>\n",
       "      <td>0.94</td>\n",
       "      <td>3070.000000</td>\n",
       "      <td>NaN</td>\n",
       "    </tr>\n",
       "    <tr>\n",
       "      <th>2021-01-05</th>\n",
       "      <td>30.46</td>\n",
       "      <td>0.22</td>\n",
       "      <td>3047.000000</td>\n",
       "      <td>NaN</td>\n",
       "    </tr>\n",
       "    <tr>\n",
       "      <th>2021-01-06</th>\n",
       "      <td>32.06</td>\n",
       "      <td>0.00</td>\n",
       "      <td>3024.000000</td>\n",
       "      <td>NaN</td>\n",
       "    </tr>\n",
       "    <tr>\n",
       "      <th>2021-01-07</th>\n",
       "      <td>30.22</td>\n",
       "      <td>0.01</td>\n",
       "      <td>3001.000000</td>\n",
       "      <td>NaN</td>\n",
       "    </tr>\n",
       "    <tr>\n",
       "      <th>2021-01-08</th>\n",
       "      <td>26.23</td>\n",
       "      <td>0.00</td>\n",
       "      <td>2978.000000</td>\n",
       "      <td>NaN</td>\n",
       "    </tr>\n",
       "  </tbody>\n",
       "</table>\n",
       "</div>"
      ],
      "text/plain": [
       "              HDD   CDD        CONUS  Spot\n",
       "2020-12-24  25.00  0.00  3476.285714  2.68\n",
       "2020-12-25  28.00  0.00  3460.000000  2.62\n",
       "2020-12-26  21.81  0.58  3414.142857   NaN\n",
       "2020-12-27  21.83  0.53  3368.285714   NaN\n",
       "2020-12-28  21.80  0.24  3322.428571   NaN\n",
       "2020-12-29  22.67  0.05  3276.571429   NaN\n",
       "2020-12-30  21.53  0.06  3230.714286   NaN\n",
       "2020-12-31  17.74  0.38  3184.857143   NaN\n",
       "2021-01-01  22.96  0.66  3139.000000   NaN\n",
       "2021-01-02  24.02  0.50  3116.000000   NaN\n",
       "2021-01-03  21.97  1.29  3093.000000   NaN\n",
       "2021-01-04  23.08  0.94  3070.000000   NaN\n",
       "2021-01-05  30.46  0.22  3047.000000   NaN\n",
       "2021-01-06  32.06  0.00  3024.000000   NaN\n",
       "2021-01-07  30.22  0.01  3001.000000   NaN\n",
       "2021-01-08  26.23  0.00  2978.000000   NaN"
      ]
     },
     "execution_count": 374,
     "metadata": {},
     "output_type": "execute_result"
    }
   ],
   "source": [
    "future_forecast.tail(16)"
   ]
  },
  {
   "cell_type": "code",
   "execution_count": 375,
   "metadata": {
    "ExecuteTime": {
     "end_time": "2021-01-16T05:59:13.780679Z",
     "start_time": "2021-01-16T05:59:13.771753Z"
    }
   },
   "outputs": [],
   "source": [
    "forecast_train = ListDataset([{FieldName.TARGET: future_forecast['Spot'][:-prediction_length],\n",
    "                         FieldName.FEAT_DYNAMIC_REAL: future_forecast[['HDD','CDD','CONUS']][:-prediction_length].values.T,\n",
    "                         FieldName.START: future_forecast.index[0]}],\n",
    "                         freq=freq)\n",
    "\n",
    "forecast_test = ListDataset([{FieldName.TARGET: future_forecast['Spot'][:-prediction_length],\n",
    "                         FieldName.FEAT_DYNAMIC_REAL: future_forecast[['HDD','CDD','CONUS']].values.T,\n",
    "                         FieldName.START: future_forecast.index[0]}],\n",
    "                         freq=freq)"
   ]
  },
  {
   "cell_type": "code",
   "execution_count": 376,
   "metadata": {
    "ExecuteTime": {
     "end_time": "2021-01-16T06:01:01.908690Z",
     "start_time": "2021-01-16T05:59:21.825443Z"
    }
   },
   "outputs": [
    {
     "name": "stderr",
     "output_type": "stream",
     "text": [
      "WARNING:gluonts.dataset.loader:Multiprocessing is not supported on Windows, num_workers will be set to None.\n",
      "  0%|                                                                                           | 0/50 [00:00<?, ?it/s]"
     ]
    },
    {
     "name": "stdout",
     "output_type": "stream",
     "text": [
      "learning rate from ``lr_scheduler`` has been overwritten by ``learning_rate`` in optimizer.\n"
     ]
    },
    {
     "name": "stderr",
     "output_type": "stream",
     "text": [
      "100%|██████████████████████████████████████████████████| 50/50 [00:05<00:00,  9.85it/s, epoch=1/32, avg_epoch_loss=2.4]\n",
      "100%|████████████████████████████████████████████████| 50/50 [00:03<00:00, 16.16it/s, epoch=2/32, avg_epoch_loss=0.264]\n",
      "100%|███████████████████████████████████████████████| 50/50 [00:02<00:00, 18.01it/s, epoch=3/32, avg_epoch_loss=0.0126]\n",
      "100%|██████████████████████████████████████████████| 50/50 [00:02<00:00, 17.93it/s, epoch=4/32, avg_epoch_loss=-.00501]\n",
      "100%|████████████████████████████████████████████████| 50/50 [00:02<00:00, 18.48it/s, epoch=5/32, avg_epoch_loss=-.023]\n",
      "100%|███████████████████████████████████████████████| 50/50 [00:02<00:00, 19.39it/s, epoch=6/32, avg_epoch_loss=-.0737]\n",
      "100%|███████████████████████████████████████████████| 50/50 [00:02<00:00, 18.78it/s, epoch=7/32, avg_epoch_loss=-.0182]\n",
      "100%|███████████████████████████████████████████████| 50/50 [00:02<00:00, 18.85it/s, epoch=8/32, avg_epoch_loss=-.0838]\n",
      "100%|███████████████████████████████████████████████| 50/50 [00:02<00:00, 18.85it/s, epoch=9/32, avg_epoch_loss=-.0705]\n",
      "100%|██████████████████████████████████████████████| 50/50 [00:02<00:00, 18.75it/s, epoch=10/32, avg_epoch_loss=-.0971]\n",
      "100%|███████████████████████████████████████████████| 50/50 [00:02<00:00, 18.71it/s, epoch=11/32, avg_epoch_loss=-.108]\n",
      "100%|██████████████████████████████████████████████| 50/50 [00:02<00:00, 18.10it/s, epoch=12/32, avg_epoch_loss=-.0941]\n",
      "100%|███████████████████████████████████████████████| 50/50 [00:02<00:00, 18.26it/s, epoch=13/32, avg_epoch_loss=-.124]\n",
      "100%|████████████████████████████████████████████████| 50/50 [00:02<00:00, 17.24it/s, epoch=14/32, avg_epoch_loss=-.11]\n",
      "100%|██████████████████████████████████████████████| 50/50 [00:02<00:00, 17.84it/s, epoch=15/32, avg_epoch_loss=-.0948]\n",
      "100%|██████████████████████████████████████████████| 50/50 [00:02<00:00, 17.09it/s, epoch=16/32, avg_epoch_loss=-.0985]\n",
      "100%|███████████████████████████████████████████████| 50/50 [00:03<00:00, 16.34it/s, epoch=17/32, avg_epoch_loss=-.141]\n",
      "100%|███████████████████████████████████████████████| 50/50 [00:03<00:00, 15.93it/s, epoch=18/32, avg_epoch_loss=-.134]\n",
      "100%|███████████████████████████████████████████████| 50/50 [00:03<00:00, 16.23it/s, epoch=19/32, avg_epoch_loss=-.121]\n",
      "100%|███████████████████████████████████████████████| 50/50 [00:03<00:00, 16.28it/s, epoch=20/32, avg_epoch_loss=-.124]\n",
      "100%|███████████████████████████████████████████████| 50/50 [00:03<00:00, 14.95it/s, epoch=21/32, avg_epoch_loss=-.155]\n",
      "100%|███████████████████████████████████████████████| 50/50 [00:03<00:00, 14.00it/s, epoch=22/32, avg_epoch_loss=-.165]\n",
      "100%|███████████████████████████████████████████████| 50/50 [00:03<00:00, 12.93it/s, epoch=23/32, avg_epoch_loss=-.147]\n",
      "100%|███████████████████████████████████████████████| 50/50 [00:03<00:00, 13.74it/s, epoch=24/32, avg_epoch_loss=-.157]\n",
      "100%|███████████████████████████████████████████████| 50/50 [00:03<00:00, 14.63it/s, epoch=25/32, avg_epoch_loss=-.171]\n",
      "100%|███████████████████████████████████████████████| 50/50 [00:03<00:00, 15.19it/s, epoch=26/32, avg_epoch_loss=-.181]\n",
      "100%|███████████████████████████████████████████████| 50/50 [00:03<00:00, 15.25it/s, epoch=27/32, avg_epoch_loss=-.158]\n",
      "100%|███████████████████████████████████████████████| 50/50 [00:03<00:00, 15.59it/s, epoch=28/32, avg_epoch_loss=-.131]\n",
      "100%|███████████████████████████████████████████████| 50/50 [00:03<00:00, 15.20it/s, epoch=29/32, avg_epoch_loss=-.158]\n",
      "100%|███████████████████████████████████████████████| 50/50 [00:03<00:00, 16.07it/s, epoch=30/32, avg_epoch_loss=-.146]\n",
      "100%|███████████████████████████████████████████████| 50/50 [00:03<00:00, 14.48it/s, epoch=31/32, avg_epoch_loss=-.171]\n",
      "100%|███████████████████████████████████████████████| 50/50 [00:03<00:00, 14.80it/s, epoch=32/32, avg_epoch_loss=-.162]\n"
     ]
    }
   ],
   "source": [
    "pred_future = estimator.train(forecast_train)"
   ]
  },
  {
   "cell_type": "code",
   "execution_count": 377,
   "metadata": {
    "ExecuteTime": {
     "end_time": "2021-01-16T06:01:04.010163Z",
     "start_time": "2021-01-16T06:01:03.529912Z"
    }
   },
   "outputs": [
    {
     "data": {
      "image/png": "[encoded data removed]",
      "text/plain": [
       "<Figure size 936x576 with 1 Axes>"
      ]
     },
     "metadata": {
      "needs_background": "light"
     },
     "output_type": "display_data"
    }
   ],
   "source": [
    "for test_entry, forecast in zip(forecast_test, pred_future.predict(forecast_test)):\n",
    "    to_pandas(test_entry)[-56:].plot(linewidth=2, color='black')\n",
    "    forecast.plot(color='dodgerblue', prediction_intervals=[50.0, 90.0])\n",
    "    prediction_intervals = (50.0, 90.0)\n",
    "    legend = ['observed price', 'median prediction'] + [f'{k}% prediction interval' for k in prediction_intervals][::-1]\n",
    "    plt.grid(which='major')\n",
    "    plt.legend(legend, loc='upper left')"
   ]
  }
 ],
 "metadata": {
  "kernelspec": {
   "display_name": "conda_amazonei_mxnet_p36",
   "language": "python",
   "name": "conda_amazonei_mxnet_p36"
  },
  "language_info": {
   "codemirror_mode": {
    "name": "ipython",
    "version": 3
   },
   "file_extension": ".py",
   "mimetype": "text/x-python",
   "name": "python",
   "nbconvert_exporter": "python",
   "pygments_lexer": "ipython3",
   "version": "3.6.10"
  },
  "toc": {
   "base_numbering": 1,
   "nav_menu": {},
   "number_sections": false,
   "sideBar": true,
   "skip_h1_title": false,
   "title_cell": "Table of Contents",
   "title_sidebar": "Contents",
   "toc_cell": false,
   "toc_position": {
    "height": "calc(100% - 180px)",
    "left": "10px",
    "top": "150px",
    "width": "385px"
   },
   "toc_section_display": true,
   "toc_window_display": true
  },
  "varInspector": {
   "cols": {
    "lenName": 16,
    "lenType": 16,
    "lenVar": 40
   },
   "kernels_config": {
    "python": {
     "delete_cmd_postfix": "",
     "delete_cmd_prefix": "del ",
     "library": "var_list.py",
     "varRefreshCmd": "print(var_dic_list())"
    },
    "r": {
     "delete_cmd_postfix": ") ",
     "delete_cmd_prefix": "rm(",
     "library": "var_list.r",
     "varRefreshCmd": "cat(var_dic_list()) "
    }
   },
   "types_to_exclude": [
    "module",
    "function",
    "builtin_function_or_method",
    "instance",
    "_Feature"
   ],
   "window_display": false
  }
 },
 "nbformat": 4,
 "nbformat_minor": 4
}

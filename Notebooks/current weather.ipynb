{
 "cells": [
  {
   "cell_type": "code",
   "execution_count": 1,
   "metadata": {
    "ExecuteTime": {
     "end_time": "2021-01-16T02:57:49.412892Z",
     "start_time": "2021-01-16T02:57:49.148846Z"
    }
   },
   "outputs": [],
   "source": [
    "from selenium import webdriver\n",
    "from selenium.webdriver.chrome.options import Options\n",
    "from selenium.webdriver.common.by import By\n",
    "from selenium.webdriver.support import expected_conditions as EC\n",
    "from selenium.webdriver.support.ui import WebDriverWait\n",
    "import pandas as pd\n",
    "import os\n",
    "\n",
    "def scrape_weather():\n",
    "    \n",
    "    # location of TrueWX 2 week weather forecast table\n",
    "    url = \"https://energy.truewx.com/degree-days/chart/gfs/conus/\"\n",
    "    \n",
    "    # initializes selenium webdriver instance using Chromium \n",
    "    driver = webdriver.Chrome(executable_path=r'C:\\Users\\Nick\\Downloads\\chromedriver_win32\\chromedriver.exe')\n",
    "    driver.get(url)\n",
    "    driver.implicitly_wait(10)\n",
    "\n",
    "    # scrapes the relevant table\n",
    "    current_weather_ = pd.read_html(driver.find_element_by_id(\"energy-table\").get_attribute('outerHTML'))[0]\n",
    "    \n",
    "    # cleans table, dropping irrelevant data\n",
    "    current_weather = pd.DataFrame(current_weather_)\n",
    "    current_weather.columns = current_weather.columns.droplevel(0)\n",
    "    current_weather_= current_weather.iloc[:, [7,8]]\n",
    "\n",
    "    dropped = current_weather_.drop(current_weather_.index[[5,11,16,17,18]])\n",
    "    save = dropped.reset_index(drop=True)\n",
    "    \n",
    "    save.index = pd.date_range(start='12/26/2020', periods=14, freq='D')\n",
    "    \n",
    "    # saves 14 day forecast data to csv\n",
    "    file = save.to_csv('current_weather_new.csv')\n",
    "\n",
    "    return file"
   ]
  }
 ],
 "metadata": {
  "kernelspec": {
   "display_name": "Python 3",
   "language": "python",
   "name": "python3"
  },
  "language_info": {
   "codemirror_mode": {
    "name": "ipython",
    "version": 3
   },
   "file_extension": ".py",
   "mimetype": "text/x-python",
   "name": "python",
   "nbconvert_exporter": "python",
   "pygments_lexer": "ipython3",
   "version": "3.8.5"
  },
  "toc": {
   "base_numbering": 1,
   "nav_menu": {},
   "number_sections": true,
   "sideBar": true,
   "skip_h1_title": false,
   "title_cell": "Table of Contents",
   "title_sidebar": "Contents",
   "toc_cell": false,
   "toc_position": {},
   "toc_section_display": true,
   "toc_window_display": false
  },
  "varInspector": {
   "cols": {
    "lenName": 16,
    "lenType": 16,
    "lenVar": 40
   },
   "kernels_config": {
    "python": {
     "delete_cmd_postfix": "",
     "delete_cmd_prefix": "del ",
     "library": "var_list.py",
     "varRefreshCmd": "print(var_dic_list())"
    },
    "r": {
     "delete_cmd_postfix": ") ",
     "delete_cmd_prefix": "rm(",
     "library": "var_list.r",
     "varRefreshCmd": "cat(var_dic_list()) "
    }
   },
   "types_to_exclude": [
    "module",
    "function",
    "builtin_function_or_method",
    "instance",
    "_Feature"
   ],
   "window_display": false
  }
 },
 "nbformat": 4,
 "nbformat_minor": 4
}
